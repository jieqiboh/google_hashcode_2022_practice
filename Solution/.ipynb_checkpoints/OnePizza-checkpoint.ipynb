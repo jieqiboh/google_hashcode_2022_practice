{
 "cells": [
  {
   "cell_type": "code",
   "execution_count": 29,
   "id": "40417b5c",
   "metadata": {},
   "outputs": [],
   "source": [
    "import numpy as np"
   ]
  },
  {
   "cell_type": "code",
   "execution_count": 4,
   "id": "8dd1d321",
   "metadata": {},
   "outputs": [],
   "source": [
    "fileNames = [\"a_an_example\", \"b_basic\", \"c_coarse\", \"d_difficult\", \"e_elaborate\"]  # File names\n",
    "inputFilesDirectory = '../Input/'\n",
    "outputFilesDirectory = '../Output/'"
   ]
  },
  {
   "cell_type": "code",
   "execution_count": 34,
   "id": "67bae30a",
   "metadata": {},
   "outputs": [],
   "source": [
    "def processFile(fileName,inputFilesDirectory):\n",
    "    inputFile = open(inputFilesDirectory + fileName + \".in.txt\", \"rt\")\n",
    "    \n",
    "    numClients = 0\n",
    "    #all ingredients\n",
    "    ingredients = np.array([])\n",
    "    #ingredients that are liked\n",
    "    liked_ingredients = np.array([])\n",
    "    #ingredients that are disliked\n",
    "    disliked_ingredients = np.array([])\n",
    "    #ingredients that are only liked\n",
    "    filtered_liked_ingredients = np.array([])\n",
    "    #ingredients that are only disliked\n",
    "    filtered_disliked_ingredients = np.array([])\n",
    "    \n",
    "    #process data\n",
    "    lineOne = inputFile.readline()\n",
    "    numClients = int(lineOne)\n",
    "    \n",
    "    for i in range(numClients*2):\n",
    "        line = inputFile.readline()\n",
    "#         print(line)\n",
    "        numIngredients = line.split()[0]\n",
    "        print(numIngredients)\n",
    "        if numIngredients == 0:\n",
    "            continue\n",
    "        \n",
    "        #liked\n",
    "        if i%2==0:\n",
    "            liked_ingredients.append(line.split()[1:])\n",
    "        #disliked\n",
    "        else:\n",
    "            disliked_ingredients.append(line.split()[1:])   \n",
    "    \n",
    "#     MAX_SLICES , NUM = list(map(int, lineOne.split()))\n",
    "#     PIZZAS = list(map(int, lineTwo.split()))\n",
    "    liked_ingredients = liked_ingredients.flatten()\n",
    "    return liked_ingredients"
   ]
  },
  {
   "cell_type": "code",
   "execution_count": 31,
   "id": "66032e56",
   "metadata": {},
   "outputs": [
    {
     "name": "stdout",
     "output_type": "stream",
     "text": [
      "2\n",
      "0\n",
      "1\n",
      "1\n",
      "2\n",
      "1\n"
     ]
    },
    {
     "ename": "AttributeError",
     "evalue": "'list' object has no attribute 'flatten'",
     "output_type": "error",
     "traceback": [
      "\u001b[1;31m---------------------------------------------------------------------------\u001b[0m",
      "\u001b[1;31mAttributeError\u001b[0m                            Traceback (most recent call last)",
      "\u001b[1;32m<ipython-input-31-9270cf8d16ac>\u001b[0m in \u001b[0;36m<module>\u001b[1;34m\u001b[0m\n\u001b[1;32m----> 1\u001b[1;33m \u001b[0mprint\u001b[0m\u001b[1;33m(\u001b[0m\u001b[0mprocessFile\u001b[0m\u001b[1;33m(\u001b[0m\u001b[1;34m\"a_an_example\"\u001b[0m\u001b[1;33m,\u001b[0m\u001b[0minputFilesDirectory\u001b[0m\u001b[1;33m)\u001b[0m\u001b[1;33m)\u001b[0m\u001b[1;33m\u001b[0m\u001b[1;33m\u001b[0m\u001b[0m\n\u001b[0m",
      "\u001b[1;32m<ipython-input-30-d364598abd45>\u001b[0m in \u001b[0;36mprocessFile\u001b[1;34m(fileName, inputFilesDirectory)\u001b[0m\n\u001b[0;32m     35\u001b[0m \u001b[1;31m#     MAX_SLICES , NUM = list(map(int, lineOne.split()))\u001b[0m\u001b[1;33m\u001b[0m\u001b[1;33m\u001b[0m\u001b[1;33m\u001b[0m\u001b[0m\n\u001b[0;32m     36\u001b[0m \u001b[1;31m#     PIZZAS = list(map(int, lineTwo.split()))\u001b[0m\u001b[1;33m\u001b[0m\u001b[1;33m\u001b[0m\u001b[1;33m\u001b[0m\u001b[0m\n\u001b[1;32m---> 37\u001b[1;33m     \u001b[0mliked_ingredients\u001b[0m \u001b[1;33m=\u001b[0m \u001b[0mliked_ingredients\u001b[0m\u001b[1;33m.\u001b[0m\u001b[0mflatten\u001b[0m\u001b[1;33m(\u001b[0m\u001b[1;33m)\u001b[0m\u001b[1;33m\u001b[0m\u001b[1;33m\u001b[0m\u001b[0m\n\u001b[0m\u001b[0;32m     38\u001b[0m     \u001b[1;32mreturn\u001b[0m \u001b[0mliked_ingredients\u001b[0m\u001b[1;33m\u001b[0m\u001b[1;33m\u001b[0m\u001b[0m\n",
      "\u001b[1;31mAttributeError\u001b[0m: 'list' object has no attribute 'flatten'"
     ]
    }
   ],
   "source": [
    "print(processFile(\"a_an_example\",inputFilesDirectory))"
   ]
  }
 ],
 "metadata": {
  "kernelspec": {
   "display_name": "Python 3",
   "language": "python",
   "name": "python3"
  },
  "language_info": {
   "codemirror_mode": {
    "name": "ipython",
    "version": 3
   },
   "file_extension": ".py",
   "mimetype": "text/x-python",
   "name": "python",
   "nbconvert_exporter": "python",
   "pygments_lexer": "ipython3",
   "version": "3.8.8"
  }
 },
 "nbformat": 4,
 "nbformat_minor": 5
}
